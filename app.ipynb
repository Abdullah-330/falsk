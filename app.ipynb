{
  "cells": [
    {
      "cell_type": "code",
      "execution_count": 1,
      "metadata": {
        "id": "pj8b2GixBTon"
      },
      "outputs": [],
      "source": [
        "import torch\n",
        "import torch.nn as nn"
      ]
    },
    {
      "cell_type": "code",
      "execution_count": 2,
      "metadata": {
        "id": "iQUCvIbtBY1r"
      },
      "outputs": [],
      "source": [
        "# Create a simple linear regression model\n",
        "class LinearRegressionModel(nn.Module):\n",
        "    def __init__(self):\n",
        "        super(LinearRegressionModel, self).__init__()\n",
        "        self.linear = nn.Linear(1, 1)  # One input feature, one output\n",
        "\n",
        "    def forward(self, x):\n",
        "        return self.linear(x)"
      ]
    },
    {
      "cell_type": "code",
      "execution_count": 3,
      "metadata": {
        "id": "fVTBDMERBx58"
      },
      "outputs": [],
      "source": [
        "# Create some dummy data for training\n",
        "x = torch.tensor([[1.0], [2.0], [3.0], [4.0]], dtype=torch.float32)  # Input data\n",
        "y = torch.tensor([[2.0], [4.0], [6.0], [8.0]], dtype=torch.float32)  # Corresponding output data"
      ]
    },
    {
      "cell_type": "code",
      "execution_count": 4,
      "metadata": {
        "id": "6p8DX-2UB39m"
      },
      "outputs": [],
      "source": [
        "# Instantiate the model\n",
        "model = LinearRegressionModel()"
      ]
    },
    {
      "cell_type": "code",
      "execution_count": 5,
      "metadata": {
        "id": "39OW6HgvxXBz"
      },
      "outputs": [],
      "source": [
        "# Define a loss function and an optimizer\n",
        "criterion = nn.MSELoss()  # Mean Squared Error loss\n",
        "optimizer = torch.optim.SGD(model.parameters(), lr=0.01)  # Stochastic Gradient Descent"
      ]
    },
    {
      "cell_type": "code",
      "execution_count": 6,
      "metadata": {
        "colab": {
          "base_uri": "https://localhost:8080/"
        },
        "id": "e2Kqt8YIxXEy",
        "outputId": "fbbe54fd-0cb1-4bde-8e3c-a11c593cebc7"
      },
      "outputs": [
        {
          "name": "stdout",
          "output_type": "stream",
          "text": [
            "Epoch [100/1000], Loss: 0.023748867213726044\n",
            "Epoch [200/1000], Loss: 0.013037830591201782\n",
            "Epoch [300/1000], Loss: 0.007157595828175545\n",
            "Epoch [400/1000], Loss: 0.003929448314011097\n",
            "Epoch [500/1000], Loss: 0.0021572227124124765\n",
            "Epoch [600/1000], Loss: 0.0011842898093163967\n",
            "Epoch [700/1000], Loss: 0.0006501590250991285\n",
            "Epoch [800/1000], Loss: 0.0003569273976609111\n",
            "Epoch [900/1000], Loss: 0.00019594885816331953\n",
            "Epoch [1000/1000], Loss: 0.00010757514974102378\n"
          ]
        }
      ],
      "source": [
        "# Training loop\n",
        "for epoch in range(1000):\n",
        "    # Forward pass\n",
        "    y_pred = model(x)\n",
        "\n",
        "    # Compute the loss\n",
        "    loss = criterion(y_pred, y)\n",
        "\n",
        "    # Backpropagation and optimization\n",
        "    optimizer.zero_grad()\n",
        "    loss.backward()\n",
        "    optimizer.step()\n",
        "\n",
        "    if (epoch + 1) % 100 == 0:\n",
        "        print(f'Epoch [{epoch + 1}/1000], Loss: {loss.item()}')"
      ]
    },
    {
      "cell_type": "code",
      "execution_count": 7,
      "metadata": {
        "id": "fYNi0qBwxXHn"
      },
      "outputs": [],
      "source": [
        "# Save the trained model to a .pth file\n",
        "torch.save(model.state_dict(), 'linear_regression_model.pth')"
      ]
    },
    {
      "cell_type": "code",
      "execution_count": 8,
      "metadata": {
        "colab": {
          "base_uri": "https://localhost:8080/"
        },
        "id": "DpXFR1WZxXKe",
        "outputId": "1690b467-d056-4852-f386-f600d8f5e5fd"
      },
      "outputs": [
        {
          "name": "stdout",
          "output_type": "stream",
          "text": [
            "Model saved to linear_regression_model.pth\n"
          ]
        }
      ],
      "source": [
        "print(\"Model saved to linear_regression_model.pth\")"
      ]
    },
    {
      "cell_type": "markdown",
      "metadata": {
        "id": "LU8xNk73xq1d"
      },
      "source": [
        "#------------------------------------------------------------------------"
      ]
    },
    {
      "cell_type": "code",
      "execution_count": 9,
      "metadata": {
        "id": "o_6VfM0ExvCe"
      },
      "outputs": [],
      "source": [
        "from flask import Flask, request, jsonify\n",
        "import torch\n",
        "import torch.nn as nn"
      ]
    },
    {
      "cell_type": "code",
      "execution_count": 10,
      "metadata": {
        "id": "uvyMSZEexvFP"
      },
      "outputs": [],
      "source": [
        "app = Flask(__name__)"
      ]
    },
    {
      "cell_type": "code",
      "execution_count": 11,
      "metadata": {
        "id": "eFoZhxZ3xvIY"
      },
      "outputs": [],
      "source": [
        "# Load your trained model\n",
        "class RegressionModel(nn.Module):\n",
        "    def __init__(self):\n",
        "        super(RegressionModel, self).__init__()\n",
        "        self.fc = nn.Linear(1, 1)\n",
        "\n",
        "    def forward(self, x):\n",
        "        return self.fc(x)"
      ]
    },
    {
      "cell_type": "code",
      "execution_count": 29,
      "metadata": {
        "colab": {
          "base_uri": "https://localhost:8080/"
        },
        "id": "WjYO26yExvLM",
        "outputId": "8d3c7e73-d727-4b79-c7d1-a853856c4824"
      },
      "outputs": [
        {
          "data": {
            "text/plain": [
              "RegressionModel(\n",
              "  (fc): Linear(in_features=1, out_features=1, bias=True)\n",
              ")"
            ]
          },
          "execution_count": 29,
          "metadata": {},
          "output_type": "execute_result"
        }
      ],
      "source": [
        "model = RegressionModel()\n",
        "state_dict = torch.load('/home/abdullah/Documents/linear_regression_model.pth')\n",
        "# Rename keys to match your model\n",
        "state_dict['fc.weight'] = state_dict.pop('linear.weight')\n",
        "state_dict['fc.bias'] = state_dict.pop('linear.bias')\n",
        "model.load_state_dict(state_dict)\n",
        "model.eval()"
      ]
    },
    {
      "cell_type": "code",
      "execution_count": 38,
      "metadata": {
        "colab": {
          "base_uri": "https://localhost:8080/"
        },
        "id": "tMoM16pjxvOk",
        "outputId": "4144ac9d-bcb2-4bad-9215-79ac68191f0d"
      },
      "outputs": [
        {
          "ename": "AssertionError",
          "evalue": "View function mapping is overwriting an existing endpoint function: predict",
          "output_type": "error",
          "traceback": [
            "\u001b[0;31m---------------------------------------------------------------------------\u001b[0m",
            "\u001b[0;31mAssertionError\u001b[0m                            Traceback (most recent call last)",
            "\u001b[1;32m/home/abdullah/Desktop/Copy_of_Untitled21.ipynb Cell 14\u001b[0m line \u001b[0;36m2\n\u001b[1;32m      <a href='vscode-notebook-cell:/home/abdullah/Desktop/Copy_of_Untitled21.ipynb#X16sZmlsZQ%3D%3D?line=0'>1</a>\u001b[0m \u001b[39m@app\u001b[39;49m\u001b[39m.\u001b[39;49mroute(\u001b[39m'\u001b[39;49m\u001b[39m/predict\u001b[39;49m\u001b[39m'\u001b[39;49m, methods\u001b[39m=\u001b[39;49m[\u001b[39m'\u001b[39;49m\u001b[39mPOST\u001b[39;49m\u001b[39m'\u001b[39;49m])\n\u001b[0;32m----> <a href='vscode-notebook-cell:/home/abdullah/Desktop/Copy_of_Untitled21.ipynb#X16sZmlsZQ%3D%3D?line=1'>2</a>\u001b[0m \u001b[39mdef\u001b[39;49;00m \u001b[39mpredict\u001b[39;49m():\n\u001b[1;32m      <a href='vscode-notebook-cell:/home/abdullah/Desktop/Copy_of_Untitled21.ipynb#X16sZmlsZQ%3D%3D?line=2'>3</a>\u001b[0m     \u001b[39mtry\u001b[39;49;00m:\n\u001b[1;32m      <a href='vscode-notebook-cell:/home/abdullah/Desktop/Copy_of_Untitled21.ipynb#X16sZmlsZQ%3D%3D?line=3'>4</a>\u001b[0m         data \u001b[39m=\u001b[39;49m request\u001b[39m.\u001b[39;49mget_json()\n",
            "File \u001b[0;32m~/.local/lib/python3.10/site-packages/flask/scaffold.py:449\u001b[0m, in \u001b[0;36mScaffold.route.<locals>.decorator\u001b[0;34m(f)\u001b[0m\n\u001b[1;32m    447\u001b[0m \u001b[39mdef\u001b[39;00m \u001b[39mdecorator\u001b[39m(f: T_route) \u001b[39m-\u001b[39m\u001b[39m>\u001b[39m T_route:\n\u001b[1;32m    448\u001b[0m     endpoint \u001b[39m=\u001b[39m options\u001b[39m.\u001b[39mpop(\u001b[39m\"\u001b[39m\u001b[39mendpoint\u001b[39m\u001b[39m\"\u001b[39m, \u001b[39mNone\u001b[39;00m)\n\u001b[0;32m--> 449\u001b[0m     \u001b[39mself\u001b[39;49m\u001b[39m.\u001b[39;49madd_url_rule(rule, endpoint, f, \u001b[39m*\u001b[39;49m\u001b[39m*\u001b[39;49moptions)\n\u001b[1;32m    450\u001b[0m     \u001b[39mreturn\u001b[39;00m f\n",
            "File \u001b[0;32m~/.local/lib/python3.10/site-packages/flask/scaffold.py:50\u001b[0m, in \u001b[0;36msetupmethod.<locals>.wrapper_func\u001b[0;34m(self, *args, **kwargs)\u001b[0m\n\u001b[1;32m     48\u001b[0m \u001b[39mdef\u001b[39;00m \u001b[39mwrapper_func\u001b[39m(\u001b[39mself\u001b[39m, \u001b[39m*\u001b[39margs: t\u001b[39m.\u001b[39mAny, \u001b[39m*\u001b[39m\u001b[39m*\u001b[39mkwargs: t\u001b[39m.\u001b[39mAny) \u001b[39m-\u001b[39m\u001b[39m>\u001b[39m t\u001b[39m.\u001b[39mAny:\n\u001b[1;32m     49\u001b[0m     \u001b[39mself\u001b[39m\u001b[39m.\u001b[39m_check_setup_finished(f_name)\n\u001b[0;32m---> 50\u001b[0m     \u001b[39mreturn\u001b[39;00m f(\u001b[39mself\u001b[39;49m, \u001b[39m*\u001b[39;49margs, \u001b[39m*\u001b[39;49m\u001b[39m*\u001b[39;49mkwargs)\n",
            "File \u001b[0;32m~/.local/lib/python3.10/site-packages/flask/app.py:1361\u001b[0m, in \u001b[0;36mFlask.add_url_rule\u001b[0;34m(self, rule, endpoint, view_func, provide_automatic_options, **options)\u001b[0m\n\u001b[1;32m   1359\u001b[0m old_func \u001b[39m=\u001b[39m \u001b[39mself\u001b[39m\u001b[39m.\u001b[39mview_functions\u001b[39m.\u001b[39mget(endpoint)\n\u001b[1;32m   1360\u001b[0m \u001b[39mif\u001b[39;00m old_func \u001b[39mis\u001b[39;00m \u001b[39mnot\u001b[39;00m \u001b[39mNone\u001b[39;00m \u001b[39mand\u001b[39;00m old_func \u001b[39m!=\u001b[39m view_func:\n\u001b[0;32m-> 1361\u001b[0m     \u001b[39mraise\u001b[39;00m \u001b[39mAssertionError\u001b[39;00m(\n\u001b[1;32m   1362\u001b[0m         \u001b[39m\"\u001b[39m\u001b[39mView function mapping is overwriting an existing\u001b[39m\u001b[39m\"\u001b[39m\n\u001b[1;32m   1363\u001b[0m         \u001b[39mf\u001b[39m\u001b[39m\"\u001b[39m\u001b[39m endpoint function: \u001b[39m\u001b[39m{\u001b[39;00mendpoint\u001b[39m}\u001b[39;00m\u001b[39m\"\u001b[39m\n\u001b[1;32m   1364\u001b[0m     )\n\u001b[1;32m   1365\u001b[0m \u001b[39mself\u001b[39m\u001b[39m.\u001b[39mview_functions[endpoint] \u001b[39m=\u001b[39m view_func\n",
            "\u001b[0;31mAssertionError\u001b[0m: View function mapping is overwriting an existing endpoint function: predict"
          ]
        }
      ],
      "source": [
        "@app.route('/predict', methods=['POST'])\n",
        "def predict():\n",
        "    try:\n",
        "        data = request.get_json()\n",
        "        input_data = torch.tensor(data['input_data'], dtype=torch.float32)\n",
        "        with torch.no_grad():\n",
        "            prediction = model(input_data).item()\n",
        "        return jsonify({\"prediction\": prediction})\n",
        "    except Exception as e:\n",
        "        return jsonify({\"error\": str(e)})\n",
        "\n",
        "if __name__ == '__main__':\n",
        "    app.run(debug=True)"
      ]
    },
    {
      "cell_type": "code",
      "execution_count": null,
      "metadata": {},
      "outputs": [],
      "source": []
    }
  ],
  "metadata": {
    "accelerator": "GPU",
    "colab": {
      "gpuType": "T4",
      "provenance": []
    },
    "kernelspec": {
      "display_name": "Python 3",
      "name": "python3"
    },
    "language_info": {
      "codemirror_mode": {
        "name": "ipython",
        "version": 3
      },
      "file_extension": ".py",
      "mimetype": "text/x-python",
      "name": "python",
      "nbconvert_exporter": "python",
      "pygments_lexer": "ipython3",
      "version": "3.10.12"
    }
  },
  "nbformat": 4,
  "nbformat_minor": 0
}
